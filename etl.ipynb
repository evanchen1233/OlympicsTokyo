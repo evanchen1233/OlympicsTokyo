{
 "cells": [
  {
   "cell_type": "code",
   "execution_count": 88,
   "id": "e5efc5f8-7ca3-4a64-9689-43166c77c9ad",
   "metadata": {},
   "outputs": [],
   "source": [
    "from pyspark.sql import SparkSession\n",
    "import os\n",
    "spark = SparkSession.builder.getOrCreate()"
   ]
  },
  {
   "cell_type": "code",
   "execution_count": 89,
   "id": "e792c380-3c75-45f0-b3e8-bf9ef7c0e4c5",
   "metadata": {},
   "outputs": [
    {
     "data": {
      "text/plain": [
       "['Athletes.csv', 'Coaches.csv', 'EntriesGender.csv', 'Medals.csv', 'Teams.csv']"
      ]
     },
     "execution_count": 89,
     "metadata": {},
     "output_type": "execute_result"
    }
   ],
   "source": [
    "# Directory containing the CSV files\n",
    "csv_directory = \"data/\"\n",
    "\n",
    "csv_files = []\n",
    "\n",
    "# List all CSV files in the directory\n",
    "for f in os.listdir(csv_directory):\n",
    "    if f.endswith(\".csv\"):\n",
    "        csv_files.append(f)\n",
    "csv_files"
   ]
  },
  {
   "cell_type": "code",
   "execution_count": 90,
   "id": "c9764ef2-0472-4e03-bcb6-1606aa37f53d",
   "metadata": {},
   "outputs": [
    {
     "data": {
      "text/plain": [
       "{'Athletes': DataFrame[PersonName: string, Country: string, Discipline: string],\n",
       " 'Coaches': DataFrame[Name: string, Country: string, Discipline: string, Event: string],\n",
       " 'EntriesGender': DataFrame[Discipline: string, Female: int, Male: int, Total: int],\n",
       " 'Medals': DataFrame[Rank: int, Team_Country: string, Gold: int, Silver: int, Bronze: int, Total: int, Rank by Total: int],\n",
       " 'Teams': DataFrame[TeamName: string, Discipline: string, Country: string, Event: string]}"
      ]
     },
     "execution_count": 90,
     "metadata": {},
     "output_type": "execute_result"
    }
   ],
   "source": [
    "# Loop through the CSV files and read them into DataFrames\n",
    "dataframes = {}\n",
    "for csv_file in csv_files:\n",
    "    # Extract the DataFrame name from the CSV file name (removing the \".csv\" extension)\n",
    "    dataframe_name = os.path.splitext(csv_file)[0]\n",
    "    \n",
    "    # Read the CSV file into a DataFrame\n",
    "    dataframe = spark.read.csv(os.path.join(csv_directory, csv_file), header=True, inferSchema=True)\n",
    "    \n",
    "    # Store the DataFrame in the dictionary with the appropriate name\n",
    "    dataframes[dataframe_name] = dataframe\n",
    "dataframes"
   ]
  },
  {
   "cell_type": "code",
   "execution_count": 91,
   "id": "509a1ca7-664f-4266-9720-a125a6ccfffd",
   "metadata": {},
   "outputs": [],
   "source": [
    "from pyspark.sql.functions import row_number,lit\n",
    "from pyspark.sql.window import Window\n",
    "from pyspark.sql.functions import desc, asc"
   ]
  },
  {
   "cell_type": "code",
   "execution_count": 92,
   "id": "d6a23316-09d1-4673-9424-07be0c793f28",
   "metadata": {},
   "outputs": [
    {
     "name": "stdout",
     "output_type": "stream",
     "text": [
      "+---+-------------------+------+----+-----+\n",
      "| Id|         Discipline|Female|Male|Total|\n",
      "+---+-------------------+------+----+-----+\n",
      "|  1|     3x3 Basketball|    32|  32|   64|\n",
      "|  2|            Archery|    64|  64|  128|\n",
      "|  3|Artistic Gymnastics|    98|  98|  196|\n",
      "|  4|  Artistic Swimming|   105|   0|  105|\n",
      "|  5|          Athletics|   969|1072| 2041|\n",
      "|  6|          Badminton|    86|  87|  173|\n",
      "|  7|  Baseball/Softball|    90| 144|  234|\n",
      "|  8|         Basketball|   144| 144|  288|\n",
      "|  9|   Beach Volleyball|    48|  48|   96|\n",
      "| 10|             Boxing|   102| 187|  289|\n",
      "+---+-------------------+------+----+-----+\n",
      "only showing top 10 rows\n",
      "\n"
     ]
    },
    {
     "data": {
      "text/plain": [
       "<bound method DataFrame.printSchema of DataFrame[Id: int, Discipline: string, Female: int, Male: int, Total: int]>"
      ]
     },
     "execution_count": 92,
     "metadata": {},
     "output_type": "execute_result"
    }
   ],
   "source": [
    "w = Window().orderBy(lit('A')) \n",
    "dim_discipline = dataframes['Athletes'].select('Discipline').union(dataframes['Coaches'].select('Discipline')) \\\n",
    "                                        .union(dataframes['EntriesGender'].select('Discipline')) \\\n",
    "                                        .union(dataframes['Teams'].select('Discipline')).distinct() \\\n",
    "                                        .orderBy(asc(\"Discipline\")).withColumn('Id', row_number().over(w)) \\\n",
    "                                        .join(dataframes['EntriesGender'],'Discipline','left') \\\n",
    "                                        .select('Id','Discipline','Female','Male','Total')\n",
    "\n",
    "dim_discipline.show(10)                                                     \n",
    "#dim_discipline.show(50, truncate=False)\n",
    "dim_discipline.printSchema                                                     "
   ]
  },
  {
   "cell_type": "code",
   "execution_count": 93,
   "id": "03daf66c-20d1-403d-978a-d6922a22ff0a",
   "metadata": {},
   "outputs": [
    {
     "name": "stdout",
     "output_type": "stream",
     "text": [
      "+---+--------------+\n",
      "| Id|       Country|\n",
      "+---+--------------+\n",
      "|  1|   Afghanistan|\n",
      "|  2|       Albania|\n",
      "|  3|       Algeria|\n",
      "|  4|American Samoa|\n",
      "|  5|       Andorra|\n",
      "+---+--------------+\n",
      "only showing top 5 rows\n",
      "\n"
     ]
    }
   ],
   "source": [
    "dim_country = dataframes['Athletes'].select('Country').union(dataframes['Coaches'].select('Country')) \\\n",
    "                                    .union(dataframes['Teams'].select('Country')).union(dataframes['Medals'].select('Team_Country')) \\\n",
    "                                    .distinct().dropDuplicates().orderBy(asc(\"Country\")).withColumn('Id', row_number().over(w)) \\\n",
    "                                    .select('Id', 'Country')\n",
    "dim_country.show(5)"
   ]
  },
  {
   "cell_type": "code",
   "execution_count": 94,
   "id": "3e18416d-8da6-4370-b523-e540835a9ba5",
   "metadata": {},
   "outputs": [
    {
     "name": "stdout",
     "output_type": "stream",
     "text": [
      "+---+----------+----+------+------+-----+----+-------------+\n",
      "| Id|Country_Id|Gold|Silver|Bronze|Total|Rank|Rank_by_Total|\n",
      "+---+----------+----+------+------+-----+----+-------------+\n",
      "|  1|       196|  39|    41|    33|  113|   1|            1|\n",
      "|  2|       145|  38|    32|    18|   88|   2|            2|\n",
      "|  3|        95|  27|    14|    17|   58|   3|            5|\n",
      "|  4|        74|  22|    21|    22|   65|   4|            4|\n",
      "|  5|       152|  20|    28|    23|   71|   5|            3|\n",
      "+---+----------+----+------+------+-----+----+-------------+\n",
      "only showing top 5 rows\n",
      "\n"
     ]
    }
   ],
   "source": [
    "fact_medal = dataframes['Medals'].join(dim_country,[dim_country.Country == dataframes['Medals'].Team_Country],'left') \\\n",
    "                                 .withColumnRenamed('id', 'Country_Id').dropDuplicates().orderBy(asc(\"Rank\")).withColumn('Id', row_number().over(w)) \\\n",
    "                                 .withColumnRenamed('Rank by Total', 'Rank_by_Total') \\\n",
    "                                 .select('Id','Country_Id','Gold','Silver','Bronze','Total','Rank','Rank_by_Total')\n",
    "\n",
    "fact_medal.show(5)"
   ]
  },
  {
   "cell_type": "code",
   "execution_count": 95,
   "id": "8b7dfb13-dff2-46f7-8d05-e8296b421cc7",
   "metadata": {},
   "outputs": [
    {
     "name": "stdout",
     "output_type": "stream",
     "text": [
      "+---+---------------+----------+----------+\n",
      "| Id|           Name|Country_Id|Discipline|\n",
      "+---+---------------+----------+----------+\n",
      "|  1|ABDELMAGID Wael|        58|  Football|\n",
      "|  2|      ABE Junya|        95|Volleyball|\n",
      "|  3|  ABE Katsuhiko|        95|Basketball|\n",
      "|  4|   ADAMA Cherif|        50|  Football|\n",
      "|  5|     AGEBA Yuya|        95|Volleyball|\n",
      "+---+---------------+----------+----------+\n",
      "only showing top 5 rows\n",
      "\n"
     ]
    }
   ],
   "source": [
    "dim_coach = dataframes['Coaches'].join(dim_country, 'Country', 'left').withColumnRenamed('Id', 'Country_Id').dropDuplicates().orderBy(asc(\"Name\")).withColumn('Id', row_number().over(w)) \\\n",
    "                                 .select('Id','Name','Country_Id', 'Discipline')\n",
    "\n",
    "dim_coach.show(5)"
   ]
  },
  {
   "cell_type": "code",
   "execution_count": 96,
   "id": "5fbcfc94-89de-4e27-8c6e-7968aeb5df99",
   "metadata": {},
   "outputs": [
    {
     "name": "stdout",
     "output_type": "stream",
     "text": [
      "+---+-----------------+----------+-------------------+\n",
      "| Id|             Name|Country_Id|         Discipline|\n",
      "+---+-----------------+----------+-------------------+\n",
      "|  1|  AALERUD Katrine|       137|       Cycling Road|\n",
      "|  2|      ABAD Nestor|       175|Artistic Gymnastics|\n",
      "|  3|ABAGNALE Giovanni|        93|             Rowing|\n",
      "|  4|   ABALDE Alberto|       175|         Basketball|\n",
      "|  5|    ABALDE Tamara|       175|         Basketball|\n",
      "+---+-----------------+----------+-------------------+\n",
      "only showing top 5 rows\n",
      "\n"
     ]
    }
   ],
   "source": [
    "dim_athlete = dataframes['Athletes'].join(dim_country, 'Country', 'left').withColumnRenamed('Id', 'Country_Id').withColumnRenamed('PersonName','Name').dropDuplicates().orderBy(asc(\"Name\")).withColumn('Id', row_number().over(w)) \\\n",
    "                                 .select('Id','Name','Country_Id', 'Discipline')\n",
    "\n",
    "dim_athlete.show(5)"
   ]
  },
  {
   "cell_type": "code",
   "execution_count": 97,
   "id": "ec1db2cf-6fef-4ab5-a17f-0b6ba8cad5cc",
   "metadata": {},
   "outputs": [
    {
     "name": "stdout",
     "output_type": "stream",
     "text": [
      "+---+-------------+--------+----------+\n",
      "| Id|Discipline_Id|Coach_Id|Athlete_Id|\n",
      "+---+-------------+--------+----------+\n",
      "|  1|            1|    null|     11071|\n",
      "|  2|            1|    null|     10892|\n",
      "|  3|            1|    null|     10841|\n",
      "|  4|            1|    null|     10755|\n",
      "|  5|            1|    null|     10701|\n",
      "+---+-------------+--------+----------+\n",
      "only showing top 5 rows\n",
      "\n"
     ]
    }
   ],
   "source": [
    "fact_sport = dim_discipline.withColumnRenamed('Id', 'Discipline_Id').join(dim_coach, 'Discipline', 'left').withColumnRenamed('Id', 'Coach_Id') \\\n",
    "                              .join(dim_athlete, 'Discipline', 'left').withColumnRenamed('Id', 'Athlete_Id') \\\n",
    "                              .dropDuplicates().orderBy(asc(\"Discipline\")).withColumn('Id', row_number().over(w)) \\\n",
    "                              .select('Id','Discipline_Id','Coach_Id','Athlete_Id')\n",
    "\n",
    "fact_sport.show(5)"
   ]
  },
  {
   "cell_type": "code",
   "execution_count": 98,
   "id": "57c4435d-d4fb-4d91-8d6a-1e0664357248",
   "metadata": {},
   "outputs": [],
   "source": [
    "dim_coach = dim_coach.select('Id','Name','Country_Id')\n",
    "dim_athlete = dim_athlete.select('Id','Name','Country_Id')"
   ]
  },
  {
   "cell_type": "code",
   "execution_count": 99,
   "id": "b94aa664-f30f-4ccf-9d60-ae0c318cd7a3",
   "metadata": {},
   "outputs": [],
   "source": [
    "df_dic = {\"dim_discipline\":dim_discipline,\"dim_country\":dim_country,\"fact_medal\":fact_medal,\"dim_athlete\":dim_athlete,\"dim_team\":dim_team,\"dim_coach\":dim_coach,\"fact_sport\":fact_sport}\n",
    "\n",
    "for name,df in df_dic.items():\n",
    "    df.write \\\n",
    "      .format(\"jdbc\") \\\n",
    "      .mode(\"overwrite\") \\\n",
    "      .option(\"url\", \"jdbc:mysql://localhost:3306/olympics_tokyo\") \\\n",
    "      .option(\"dbtable\", name) \\\n",
    "      .option(\"user\", \"evan\") \\\n",
    "      .option(\"password\", \"Wrwr1234\") \\\n",
    "      .save()"
   ]
  },
  {
   "cell_type": "code",
   "execution_count": 100,
   "id": "c664225f-2c98-433c-a40b-b4f07960a2d1",
   "metadata": {},
   "outputs": [],
   "source": [
    "spark.stop()"
   ]
  },
  {
   "cell_type": "code",
   "execution_count": null,
   "id": "fdbf79b2-e795-425d-bb1e-a1b67f7609c4",
   "metadata": {},
   "outputs": [],
   "source": []
  }
 ],
 "metadata": {
  "kernelspec": {
   "display_name": "Python 3 (ipykernel)",
   "language": "python",
   "name": "python3"
  },
  "language_info": {
   "codemirror_mode": {
    "name": "ipython",
    "version": 3
   },
   "file_extension": ".py",
   "mimetype": "text/x-python",
   "name": "python",
   "nbconvert_exporter": "python",
   "pygments_lexer": "ipython3",
   "version": "3.9.17"
  }
 },
 "nbformat": 4,
 "nbformat_minor": 5
}
